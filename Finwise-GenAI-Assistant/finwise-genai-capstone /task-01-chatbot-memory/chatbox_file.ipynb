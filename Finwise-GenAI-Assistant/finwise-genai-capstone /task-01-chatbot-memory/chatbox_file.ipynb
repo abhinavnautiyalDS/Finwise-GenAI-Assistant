{
  "nbformat": 4,
  "nbformat_minor": 0,
  "metadata": {
    "colab": {
      "provenance": [],
      "authorship_tag": "ABX9TyM0sj84jZL7YOlUxzj7GhQR",
      "include_colab_link": true
    },
    "kernelspec": {
      "name": "python3",
      "display_name": "Python 3"
    },
    "language_info": {
      "name": "python"
    }
  },
  "cells": [
    {
      "cell_type": "markdown",
      "metadata": {
        "id": "view-in-github",
        "colab_type": "text"
      },
      "source": [
        "<a href=\"https://colab.research.google.com/github/abhinavnautiyalDS/Finwise-GenAI-Assistant/blob/main/Finwise-GenAI-Assistant/finwise-genai-capstone%20/task-01-chatbot-memory/chatbox_file.ipynb\" target=\"_parent\"><img src=\"https://colab.research.google.com/assets/colab-badge.svg\" alt=\"Open In Colab\"/></a>"
      ]
    },
    {
      "cell_type": "markdown",
      "source": [
        "### **Install required packages**\n"
      ],
      "metadata": {
        "id": "3NBN8GMEgMGZ"
      }
    },
    {
      "cell_type": "code",
      "source": [
        "!pip install -qU langchain langchain-google-genai gradio\n"
      ],
      "metadata": {
        "colab": {
          "base_uri": "https://localhost:8080/"
        },
        "id": "XzCaTULwI1Wp",
        "outputId": "a04d13f2-7a1c-42e4-a9d0-a462a4449d88"
      },
      "execution_count": 19,
      "outputs": [
        {
          "output_type": "stream",
          "name": "stdout",
          "text": [
            "\u001b[?25l   \u001b[90m━━━━━━━━━━━━━━━━━━━━━━━━━━━━━━━━━━━━━━━━\u001b[0m \u001b[32m0.0/1.0 MB\u001b[0m \u001b[31m?\u001b[0m eta \u001b[36m-:--:--\u001b[0m\r\u001b[2K   \u001b[91m━━━━━━━━━━━━━━━━━━\u001b[0m\u001b[91m╸\u001b[0m\u001b[90m━━━━━━━━━━━━━━━━━━━━━\u001b[0m \u001b[32m0.5/1.0 MB\u001b[0m \u001b[31m13.9 MB/s\u001b[0m eta \u001b[36m0:00:01\u001b[0m\r\u001b[2K   \u001b[90m━━━━━━━━━━━━━━━━━━━━━━━━━━━━━━━━━━━━━━━━\u001b[0m \u001b[32m1.0/1.0 MB\u001b[0m \u001b[31m16.4 MB/s\u001b[0m eta \u001b[36m0:00:00\u001b[0m\n",
            "\u001b[?25h"
          ]
        }
      ]
    },
    {
      "cell_type": "markdown",
      "source": [
        "### **Importing Required Libraries**"
      ],
      "metadata": {
        "id": "OGMDX5NWgShe"
      }
    },
    {
      "cell_type": "code",
      "source": [
        "from langchain_google_genai import ChatGoogleGenerativeAI\n",
        "from langchain.chains import ConversationChain\n",
        "from langchain.memory import ConversationBufferMemory\n",
        "from google.colab import userdata\n",
        "import gradio as gr"
      ],
      "metadata": {
        "id": "U4XUXgNMgWa_"
      },
      "execution_count": null,
      "outputs": []
    },
    {
      "cell_type": "code",
      "execution_count": 20,
      "metadata": {
        "colab": {
          "base_uri": "https://localhost:8080/",
          "height": 723
        },
        "id": "KJ8jMVcGvKWC",
        "outputId": "43c7af00-ac36-4a1c-ba40-6d2759ed1faa"
      },
      "outputs": [
        {
          "output_type": "stream",
          "name": "stderr",
          "text": [
            "/tmp/ipython-input-1596488837.py:22: LangChainDeprecationWarning: Please see the migration guide at: https://python.langchain.com/docs/versions/migrating_memory/\n",
            "  memory = ConversationBufferMemory()\n",
            "/tmp/ipython-input-1596488837.py:25: LangChainDeprecationWarning: The class `ConversationChain` was deprecated in LangChain 0.2.7 and will be removed in 1.0. Use :class:`~langchain_core.runnables.history.RunnableWithMessageHistory` instead.\n",
            "  conversation = ConversationChain(\n",
            "/tmp/ipython-input-1596488837.py:43: UserWarning: You have not specified a value for the `type` parameter. Defaulting to the 'tuples' format for chatbot messages, but this is deprecated and will be removed in a future version of Gradio. Please set type='messages' instead, which uses openai-style dictionaries with 'role' and 'content' keys.\n",
            "  chatbot_component = gr.Chatbot(label=\"Conversation\")\n"
          ]
        },
        {
          "output_type": "stream",
          "name": "stdout",
          "text": [
            "Colab notebook detected. To show errors in colab notebook, set debug=True in launch()\n",
            "Note: opening Chrome Inspector may crash demo inside Colab notebooks.\n",
            "* To create a public link, set `share=True` in `launch()`.\n"
          ]
        },
        {
          "output_type": "display_data",
          "data": {
            "text/plain": [
              "<IPython.core.display.Javascript object>"
            ],
            "application/javascript": [
              "(async (port, path, width, height, cache, element) => {\n",
              "                        if (!google.colab.kernel.accessAllowed && !cache) {\n",
              "                            return;\n",
              "                        }\n",
              "                        element.appendChild(document.createTextNode(''));\n",
              "                        const url = await google.colab.kernel.proxyPort(port, {cache});\n",
              "\n",
              "                        const external_link = document.createElement('div');\n",
              "                        external_link.innerHTML = `\n",
              "                            <div style=\"font-family: monospace; margin-bottom: 0.5rem\">\n",
              "                                Running on <a href=${new URL(path, url).toString()} target=\"_blank\">\n",
              "                                    https://localhost:${port}${path}\n",
              "                                </a>\n",
              "                            </div>\n",
              "                        `;\n",
              "                        element.appendChild(external_link);\n",
              "\n",
              "                        const iframe = document.createElement('iframe');\n",
              "                        iframe.src = new URL(path, url).toString();\n",
              "                        iframe.height = height;\n",
              "                        iframe.allow = \"autoplay; camera; microphone; clipboard-read; clipboard-write;\"\n",
              "                        iframe.width = width;\n",
              "                        iframe.style.border = 0;\n",
              "                        element.appendChild(iframe);\n",
              "                    })(7860, \"/\", \"100%\", 500, false, window.element)"
            ]
          },
          "metadata": {}
        },
        {
          "output_type": "execute_result",
          "data": {
            "text/plain": []
          },
          "metadata": {},
          "execution_count": 20
        }
      ],
      "source": [
        "\n",
        "\n",
        "# Get your API key from Colab secrets\n",
        "api_key = userdata.get('GOOGLE_API_KEY')\n",
        "\n",
        "llm = ChatGoogleGenerativeAI(\n",
        "    model=\"gemini-2.0-flash\",\n",
        "    google_api_key=api_key,\n",
        "    temperature=0.7\n",
        ")\n",
        "\n",
        "# Set up conversation memory\n",
        "memory = ConversationBufferMemory()\n",
        "\n",
        "# Create a conversational chain with memory\n",
        "conversation = ConversationChain(\n",
        "    llm=llm,\n",
        "    memory=memory,\n",
        "    verbose=False  # Set to True to see internal chain details\n",
        ")\n",
        "\n",
        "# Define the chatbot function for Gradio\n",
        "\n",
        "def chatbot(user_input, history=[]):\n",
        "    # Get response from the conversation chain\n",
        "    response = conversation.predict(input=user_input)\n",
        "    # Append to history (Gradio expects [user, bot] pairs)\n",
        "    history.append([user_input, response])\n",
        "    return history, history\n",
        "\n",
        "# Create Gradio interface\n",
        "with gr.Blocks() as interface:\n",
        "    gr.Markdown(\"# Gemini Pro Chatbot with Memory\")\n",
        "    gr.Markdown(\"Ask anything, and I'll remember our conversation!\")\n",
        "    chatbot_component = gr.Chatbot(label=\"Conversation\")\n",
        "    user_input = gr.Textbox(label=\"Your Message\", placeholder=\"Type here...\")\n",
        "    submit_button = gr.Button(\"Send\")\n",
        "\n",
        "    # Link button to chatbot function\n",
        "    submit_button.click(\n",
        "        fn=chatbot,\n",
        "        inputs=[user_input, chatbot_component],\n",
        "        outputs=[chatbot_component, chatbot_component]\n",
        "    )\n",
        "\n",
        "\n",
        "#launching gradio app\n",
        "interface.launch(share=False)  # share=True for public link (Colab Pro recommended)"
      ]
    }
  ]
}