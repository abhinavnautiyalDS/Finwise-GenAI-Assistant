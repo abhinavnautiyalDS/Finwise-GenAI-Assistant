{
  "nbformat": 4,
  "nbformat_minor": 0,
  "metadata": {
    "colab": {
      "provenance": [],
      "authorship_tag": "ABX9TyOZY8pIFDKo4y9hqk7I1wxi",
      "include_colab_link": true
    },
    "kernelspec": {
      "name": "python3",
      "display_name": "Python 3"
    },
    "language_info": {
      "name": "python"
    }
  },
  "cells": [
    {
      "cell_type": "markdown",
      "metadata": {
        "id": "view-in-github",
        "colab_type": "text"
      },
      "source": [
        "<a href=\"https://colab.research.google.com/github/abhinavnautiyalDS/Finwise-GenAI-Assistant/blob/main/finwise-genai-capstone/task-02-agent-tools-langgraph/Task_2%20Agent.ipynb\" target=\"_parent\"><img src=\"https://colab.research.google.com/assets/colab-badge.svg\" alt=\"Open In Colab\"/></a>"
      ]
    },
    {
      "cell_type": "markdown",
      "source": [
        "Installing required packages"
      ],
      "metadata": {
        "id": "boFuNDa1ic4J"
      }
    },
    {
      "cell_type": "code",
      "source": [
        "import warnings\n",
        "warnings.filterwarnings('ignore')\n"
      ],
      "metadata": {
        "id": "aghewSI7i4BE"
      },
      "execution_count": 1,
      "outputs": []
    },
    {
      "cell_type": "code",
      "source": [
        "!pip install -qU langchain langchain-google-genai langgraph langchain-community langchain-experimental requests duckduckgo-search ddgs\n"
      ],
      "metadata": {
        "id": "cTMBJvdG1q64",
        "colab": {
          "base_uri": "https://localhost:8080/"
        },
        "outputId": "e2983f3a-ddfe-4d1d-dae5-85753e459507"
      },
      "execution_count": 2,
      "outputs": [
        {
          "output_type": "stream",
          "name": "stdout",
          "text": [
            "\u001b[?25l   \u001b[90m━━━━━━━━━━━━━━━━━━━━━━━━━━━━━━━━━━━━━━━━\u001b[0m \u001b[32m0.0/50.7 kB\u001b[0m \u001b[31m?\u001b[0m eta \u001b[36m-:--:--\u001b[0m\r\u001b[2K   \u001b[90m━━━━━━━━━━━━━━━━━━━━━━━━━━━━━━━━━━━━━━━━\u001b[0m \u001b[32m50.7/50.7 kB\u001b[0m \u001b[31m1.5 MB/s\u001b[0m eta \u001b[36m0:00:00\u001b[0m\n",
            "\u001b[2K   \u001b[90m━━━━━━━━━━━━━━━━━━━━━━━━━━━━━━━━━━━━━━━━\u001b[0m \u001b[32m155.4/155.4 kB\u001b[0m \u001b[31m5.8 MB/s\u001b[0m eta \u001b[36m0:00:00\u001b[0m\n",
            "\u001b[2K   \u001b[90m━━━━━━━━━━━━━━━━━━━━━━━━━━━━━━━━━━━━━━━━\u001b[0m \u001b[32m2.5/2.5 MB\u001b[0m \u001b[31m28.8 MB/s\u001b[0m eta \u001b[36m0:00:00\u001b[0m\n",
            "\u001b[2K   \u001b[90m━━━━━━━━━━━━━━━━━━━━━━━━━━━━━━━━━━━━━━━━\u001b[0m \u001b[32m209.2/209.2 kB\u001b[0m \u001b[31m7.9 MB/s\u001b[0m eta \u001b[36m0:00:00\u001b[0m\n",
            "\u001b[2K   \u001b[90m━━━━━━━━━━━━━━━━━━━━━━━━━━━━━━━━━━━━━━━━\u001b[0m \u001b[32m64.7/64.7 kB\u001b[0m \u001b[31m2.3 MB/s\u001b[0m eta \u001b[36m0:00:00\u001b[0m\n",
            "\u001b[2K   \u001b[90m━━━━━━━━━━━━━━━━━━━━━━━━━━━━━━━━━━━━━━━━\u001b[0m \u001b[32m1.4/1.4 MB\u001b[0m \u001b[31m40.9 MB/s\u001b[0m eta \u001b[36m0:00:00\u001b[0m\n",
            "\u001b[2K   \u001b[90m━━━━━━━━━━━━━━━━━━━━━━━━━━━━━━━━━━━━━━━━\u001b[0m \u001b[32m45.8/45.8 kB\u001b[0m \u001b[31m2.0 MB/s\u001b[0m eta \u001b[36m0:00:00\u001b[0m\n",
            "\u001b[2K   \u001b[90m━━━━━━━━━━━━━━━━━━━━━━━━━━━━━━━━━━━━━━━━\u001b[0m \u001b[32m56.8/56.8 kB\u001b[0m \u001b[31m2.9 MB/s\u001b[0m eta \u001b[36m0:00:00\u001b[0m\n",
            "\u001b[2K   \u001b[90m━━━━━━━━━━━━━━━━━━━━━━━━━━━━━━━━━━━━━━━━\u001b[0m \u001b[32m3.3/3.3 MB\u001b[0m \u001b[31m31.5 MB/s\u001b[0m eta \u001b[36m0:00:00\u001b[0m\n",
            "\u001b[2K   \u001b[90m━━━━━━━━━━━━━━━━━━━━━━━━━━━━━━━━━━━━━━━━\u001b[0m \u001b[32m50.9/50.9 kB\u001b[0m \u001b[31m1.7 MB/s\u001b[0m eta \u001b[36m0:00:00\u001b[0m\n",
            "\u001b[2K   \u001b[90m━━━━━━━━━━━━━━━━━━━━━━━━━━━━━━━━━━━━━━━━\u001b[0m \u001b[32m207.6/207.6 kB\u001b[0m \u001b[31m9.6 MB/s\u001b[0m eta \u001b[36m0:00:00\u001b[0m\n",
            "\u001b[?25h\u001b[31mERROR: pip's dependency resolver does not currently take into account all the packages that are installed. This behaviour is the source of the following dependency conflicts.\n",
            "google-colab 1.0.0 requires requests==2.32.4, but you have requests 2.32.5 which is incompatible.\n",
            "google-generativeai 0.8.5 requires google-ai-generativelanguage==0.6.15, but you have google-ai-generativelanguage 0.7.0 which is incompatible.\u001b[0m\u001b[31m\n",
            "\u001b[0m"
          ]
        }
      ]
    },
    {
      "cell_type": "markdown",
      "source": [
        "Importing Required Libraries"
      ],
      "metadata": {
        "id": "cTOSxwEPihgF"
      }
    },
    {
      "cell_type": "code",
      "source": [
        "from langchain_google_genai import ChatGoogleGenerativeAI\n",
        "from langgraph.prebuilt import create_react_agent\n",
        "from langchain_core.tools import tool\n",
        "from langchain_experimental.utilities.python import PythonREPL\n",
        "from langchain_community.tools import DuckDuckGoSearchRun\n",
        "from google.colab import userdata\n",
        "import math\n",
        "import requests\n",
        "import json"
      ],
      "metadata": {
        "id": "kBsAL0Bki71y"
      },
      "execution_count": null,
      "outputs": []
    },
    {
      "cell_type": "markdown",
      "source": [
        "Getting Api key from colab secrets"
      ],
      "metadata": {
        "id": "jstgGaAHjIC-"
      }
    },
    {
      "cell_type": "code",
      "source": [
        "\n",
        "google_api_key = userdata.get('GOOGLE_API_KEY')\n",
        "alpha_vantage_key = userdata.get('ALPHA_VANTAGE_KEY')  # Optional for stock tool\n",
        "\n",
        "# Initialize Gemini LLM (gemini-2.5-pro for advanced reasoning)\n",
        "llm = ChatGoogleGenerativeAI(\n",
        "    model=\"gemini-2.0-flash\",\n",
        "    google_api_key=google_api_key,\n",
        "    temperature=0.1  # Low for precise calculations\n",
        ")\n"
      ],
      "metadata": {
        "id": "q3FcAHk_jSPY"
      },
      "execution_count": null,
      "outputs": []
    },
    {
      "cell_type": "markdown",
      "source": [
        "Defining Tools"
      ],
      "metadata": {
        "id": "uxBaQe2XjTCs"
      }
    },
    {
      "cell_type": "code",
      "source": [
        "\n",
        "@tool(return_direct=False)\n",
        "def calculator(expression: str) -> str:\n",
        "    \"\"\"Perform mathematical calculations or EMI. Input:\n",
        "    - 'EMI(P, r, n)' for loan EMI where P=principal, r=annual rate/12 (e.g., 0.09 for 9%), n=months.\n",
        "    - Simple expressions like '2 + 2'.\n",
        "    Returns result or error message.\"\"\"\n",
        "    try:\n",
        "        if expression.startswith(\"EMI(\"):\n",
        "            args = expression[4:-1].split(\",\")\n",
        "            P = float(args[0].strip())\n",
        "            r_annual = float(args[1].strip())\n",
        "            r = r_annual / 12  # Monthly rate\n",
        "            n = int(args[2].strip())\n",
        "            emi = P * r * (math.pow(1 + r, n)) / (math.pow(1 + r, n) - 1)\n",
        "            return f\"Monthly EMI: ₹{emi:.2f}\"\n",
        "        else:\n",
        "            return str(eval(expression))\n",
        "    except Exception as e:\n",
        "        return f\"Error in calculation: {str(e)}\"\n",
        "\n",
        "@tool(return_direct=False)\n",
        "def python_repl(code: str) -> str:\n",
        "    \"\"\"Run Python code for complex calculations or simulations. Input: valid Python code string.\"\"\"\n",
        "    try:\n",
        "        repl = PythonREPL()\n",
        "        result = repl.run(code)\n",
        "        return str(result)\n",
        "    except Exception as e:\n",
        "        return f\"REPL error: {str(e)}\"\n",
        "\n",
        "@tool(return_direct=False)\n",
        "def stock_price(symbol: str) -> str:\n",
        "    \"\"\"Get current stock price for a symbol (e.g., AAPL). Returns price or error.\"\"\"\n",
        "    if not alpha_vantage_key:\n",
        "        return \"Alpha Vantage API key not set. Simulated price: $150.00 for AAPL.\"\n",
        "    url = f\"https://www.alphavantage.co/query?function=GLOBAL_QUOTE&symbol={symbol}&apikey={alpha_vantage_key}\"\n",
        "    try:\n",
        "        response = requests.get(url)\n",
        "        data = response.json()\n",
        "        price = float(data['Global Quote']['05. price'])\n",
        "        return f\"Current price for {symbol}: ${price:.2f}\"\n",
        "    except Exception as e:\n",
        "        return f\"Error fetching {symbol} data: {str(e)}\"\n",
        "\n",
        "@tool(return_direct=False)\n",
        "def web_search(query: str) -> str:\n",
        "    \"\"\"Search the web for general information. Input: search query.\"\"\"\n",
        "    try:\n",
        "        search = DuckDuckGoSearchRun()\n",
        "        return search.run(query)\n",
        "    except Exception as e:\n",
        "        return f\"Search error: {str(e)}\"\n",
        "\n",
        "# List of tools\n",
        "tools = [calculator, python_repl, stock_price, web_search]\n",
        "\n",
        "# Bind tools to LLM for better calling (fixes search/REPL issues)\n",
        "llm_with_tools = llm.bind_tools(tools)\n",
        "\n",
        "# Refined System Prompt with strict tool calling instructions\n",
        "system_prompt = \"\"\"You are a precise financial assistant. ALWAYS use tools for calculations and data fetching. Think step-by-step: 1. Identify the tool needed. 2. Call the tool with exact input. 3. Use the observation to form the answer.\n",
        "- For EMI: Call 'calculator' with 'EMI(2000000, 0.09, 60)' (r=annual rate 0.09, n=months 60).\n",
        "- For compound interest: Call 'python_repl' with code 'P = 10000; r = 0.07; t = 10; amount = P * (1 + r)**t; interest = amount - P; print(f\"Interest: {interest:.2f}\")'.\n",
        "- For stock prices: Call 'stock_price' with symbol 'AAPL'.\n",
        "- For general info: Call 'web_search' with query.\n",
        "Reference prior observations in multi-step queries. End with clear final answer. No disclaimers unless asked.\"\"\""
      ],
      "metadata": {
        "id": "g9S0Vwrujotz"
      },
      "execution_count": null,
      "outputs": []
    },
    {
      "cell_type": "markdown",
      "source": [
        "Creating Agents"
      ],
      "metadata": {
        "id": "oU_FFrDJjqWO"
      }
    },
    {
      "cell_type": "code",
      "source": [
        "# Create ReAct Agent with LangGraph (latest method, using bound LLM)\n",
        "agent = create_react_agent(\n",
        "    llm_with_tools,  # Bound LLM\n",
        "    tools,  # Tools list\n",
        "    # messages_modifier=system_prompt  # Refined prompt\n",
        ")"
      ],
      "metadata": {
        "id": "IMFAiG7Gjt0f"
      },
      "execution_count": null,
      "outputs": []
    },
    {
      "cell_type": "markdown",
      "source": [
        "Testing"
      ],
      "metadata": {
        "id": "IhwYQ6ncjvYX"
      }
    },
    {
      "cell_type": "code",
      "source": [
        "\n",
        "print(\"=== Testing LangGraph ReAct Agent with External Tools ===\")\n",
        "\n",
        "# Test 1: EMI Calculation\n",
        "query1 = \"What is the monthly EMI for a 20 lakh loan over 5 years at 9% annual interest?\"\n",
        "print(f\"\\nQuery 1: {query1}\")\n",
        "response1 = agent.invoke({\"messages\": [(\"human\", query1)]})\n",
        "print(\"Final Response:\")\n",
        "print(response1[\"messages\"][-1].content)  # Last AI message\n",
        "print(\"\\nFull Trajectory (Tool Calls):\")\n",
        "for msg in response1[\"messages\"]:\n",
        "    if msg.type == \"tool\":\n",
        "        print(f\"Tool: {msg.name} - {msg.content}\")\n",
        "\n",
        "# Test 2: Stock Price\n",
        "query2 = \"What's the current price of AAPL stock, and how much would 10 shares cost?\"\n",
        "print(f\"\\nQuery 2: {query2}\")\n",
        "response2 = agent.invoke({\"messages\": [(\"human\", query2)]})\n",
        "print(\"Final Response:\")\n",
        "print(response2[\"messages\"][-1].content)\n",
        "print(\"\\nFull Trajectory (Tool Calls):\")\n",
        "for msg in response2[\"messages\"]:\n",
        "    if msg.type == \"tool\":\n",
        "        print(f\"Tool: {msg.name} - {msg.content}\")\n",
        "\n",
        "# Test 3: Compound Interest with Python REPL\n",
        "query3 = \"Calculate compound interest on 10,000 at 7% annual rate for 10 years.\"\n",
        "print(f\"\\nQuery 3: {query3}\")\n",
        "response3 = agent.invoke({\"messages\": [(\"human\", query3)]})\n",
        "print(\"Final Response:\")\n",
        "print(response3[\"messages\"][-1].content)\n",
        "print(\"\\nFull Trajectory (Tool Calls):\")\n",
        "for msg in response3[\"messages\"]:\n",
        "    if msg.type == \"tool\":\n",
        "        print(f\"Tool: {msg.name} - {msg.content}\")\n",
        "\n",
        "# Multi-Step Test (Context-Aware)\n",
        "print(\"\\n=== Multi-Step Test (Context-Aware) ===\")\n",
        "# Chain previous response with new query\n",
        "messages_multi = response2[\"messages\"] + [(\"human\", \"Using the AAPL price above, calculate total cost for 10 shares.\")]\n",
        "response_multi = agent.invoke({\"messages\": messages_multi})\n",
        "print(\"Final Response:\")\n",
        "print(response_multi[\"messages\"][-1].content)\n",
        "print(\"\\nFull Trajectory (Tool Calls):\")\n",
        "for msg in response_multi[\"messages\"]:\n",
        "    if msg.type == \"tool\":\n",
        "        print(f\"Tool: {msg.name} - {msg.content}\")\n",
        "\n",
        "# Test 4: Web Search (to verify search calling)\n",
        "print(\"\\n=== Test 4: Web Search ===\")\n",
        "query4 = \"What is the current inflation rate in India?\"\n",
        "response4 = agent.invoke({\"messages\": [(\"human\", query4)]})\n",
        "print(\"Final Response:\")\n",
        "print(response4[\"messages\"][-1].content)\n",
        "print(\"\\nFull Trajectory (Tool Calls):\")\n",
        "for msg in response4[\"messages\"]:\n",
        "    if msg.type == \"tool\":\n",
        "        print(f\"Tool: {msg.name} - {msg.content}\")"
      ],
      "metadata": {
        "colab": {
          "base_uri": "https://localhost:8080/"
        },
        "id": "7dFJacb__HVg",
        "outputId": "6d2d5eac-8dff-4bf1-e391-a087d3cfcd0d"
      },
      "execution_count": null,
      "outputs": [
        {
          "output_type": "stream",
          "name": "stdout",
          "text": [
            "=== Testing LangGraph ReAct Agent with External Tools ===\n",
            "\n",
            "Query 1: What is the monthly EMI for a 20 lakh loan over 5 years at 9% annual interest?\n",
            "Final Response:\n",
            "The monthly EMI for a 20 lakh loan over 5 years at 9% annual interest is ₹41516.71.\n",
            "\n",
            "Full Trajectory (Tool Calls):\n",
            "Tool: calculator - Monthly EMI: ₹41516.71\n",
            "\n",
            "Query 2: What's the current price of AAPL stock, and how much would 10 shares cost?\n",
            "Final Response:\n",
            "The current price of AAPL is $256.69. Therefore, 10 shares would cost $2566.90.\n",
            "\n",
            "Full Trajectory (Tool Calls):\n",
            "Tool: stock_price - Current price for AAPL: $256.69\n",
            "\n",
            "Query 3: Calculate compound interest on 10,000 at 7% annual rate for 10 years.\n"
          ]
        },
        {
          "output_type": "stream",
          "name": "stderr",
          "text": [
            "WARNING:langchain_experimental.utilities.python:Python REPL can execute arbitrary code. Use with caution.\n"
          ]
        },
        {
          "output_type": "stream",
          "name": "stdout",
          "text": [
            "Final Response:\n",
            "The compound interest is approximately 9671.51.\n",
            "\n",
            "Full Trajectory (Tool Calls):\n",
            "Tool: python_repl - 9671.513572895663\n",
            "\n",
            "\n",
            "=== Multi-Step Test (Context-Aware) ===\n",
            "Final Response:\n",
            "The total cost for 10 shares of AAPL at the current price of $256.69 is $2566.90.\n",
            "\n",
            "Full Trajectory (Tool Calls):\n",
            "Tool: stock_price - Current price for AAPL: $256.69\n",
            "Tool: calculator - 2566.9\n",
            "\n",
            "=== Test 4: Web Search ===\n",
            "Final Response:\n",
            "I am sorry, I cannot fulfill this request. I encountered an error when trying to search the web for the current inflation rate in India.\n",
            "\n",
            "Full Trajectory (Tool Calls):\n",
            "Tool: web_search - Search error: Could not import ddgs python package. Please install it with `pip install -U ddgs`.\n"
          ]
        }
      ]
    }
  ]
}